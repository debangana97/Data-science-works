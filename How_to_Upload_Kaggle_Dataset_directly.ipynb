{
  "nbformat": 4,
  "nbformat_minor": 0,
  "metadata": {
    "colab": {
      "name": "How_to_Upload_Kaggle_Dataset_directly.ipynb",
      "provenance": [],
      "authorship_tag": "ABX9TyMl7+EP0yJxyCFTzeppy15G",
      "include_colab_link": true
    },
    "kernelspec": {
      "name": "python3",
      "display_name": "Python 3"
    },
    "language_info": {
      "name": "python"
    }
  },
  "cells": [
    {
      "cell_type": "markdown",
      "metadata": {
        "id": "view-in-github",
        "colab_type": "text"
      },
      "source": [
        "<a href=\"https://colab.research.google.com/github/debangana97/Data-science-works/blob/main/How_to_Upload_Kaggle_Dataset_directly.ipynb\" target=\"_parent\"><img src=\"https://colab.research.google.com/assets/colab-badge.svg\" alt=\"Open In Colab\"/></a>"
      ]
    },
    {
      "cell_type": "code",
      "metadata": {
        "id": "RPKXOZHMkQVi"
      },
      "source": [
        "! pip install -q kaggle"
      ],
      "execution_count": null,
      "outputs": []
    },
    {
      "cell_type": "code",
      "metadata": {
        "id": "7pKd3mAbkbLr"
      },
      "source": [
        "#go to kaggle --> Account --> Expire API token --> Create New API token\n",
        "#a kaggle.json file will be downloaded\n",
        "\n",
        "from google.colab import files\n",
        "\n",
        "files.upload()\n",
        "\n",
        "#upload that kaggle.json file here\n",
        "#then run the following lines of code"
      ],
      "execution_count": null,
      "outputs": []
    },
    {
      "cell_type": "code",
      "metadata": {
        "id": "Fo2sWa5RkbHU"
      },
      "source": [
        "! mkdir ~/.kaggle"
      ],
      "execution_count": null,
      "outputs": []
    },
    {
      "cell_type": "code",
      "metadata": {
        "id": "wzaM51TLkbBw"
      },
      "source": [
        "! cp kaggle.json ~/.kaggle/"
      ],
      "execution_count": null,
      "outputs": []
    },
    {
      "cell_type": "code",
      "metadata": {
        "id": "i2Q26GVlka8I"
      },
      "source": [
        "! chmod 600 ~/.kaggle/kaggle.json"
      ],
      "execution_count": null,
      "outputs": []
    },
    {
      "cell_type": "code",
      "metadata": {
        "id": "l7cM3mvskarr"
      },
      "source": [
        "! kaggle datasets list"
      ],
      "execution_count": null,
      "outputs": []
    },
    {
      "cell_type": "code",
      "metadata": {
        "id": "CFTMiNeZlKLo"
      },
      "source": [
        "#go to the kaggle dataset which you want to download\n",
        "#click on the 3-dot button at the right side of 'New Notebook' button --> Copy API command\n",
        "\n",
        "! paste the copied API command\n",
        "\n",
        "#run this cell and the zip file will be shown here\n",
        "#copy the file path"
      ],
      "execution_count": null,
      "outputs": []
    },
    {
      "cell_type": "code",
      "metadata": {
        "id": "Tv-awrMUmTgL"
      },
      "source": [
        "! unzip 'paste the copied file path and run'\n",
        "\n",
        "#after executing this cell the .csv file will be shown in colab and the data is now ready to be used."
      ],
      "execution_count": null,
      "outputs": []
    }
  ]
}